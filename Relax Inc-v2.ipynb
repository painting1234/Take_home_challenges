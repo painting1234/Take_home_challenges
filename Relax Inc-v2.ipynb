{
 "cells": [
  {
   "cell_type": "markdown",
   "id": "0632b95e",
   "metadata": {},
   "source": [
    "## Summary"
   ]
  },
  {
   "cell_type": "markdown",
   "id": "3d02f1dc",
   "metadata": {},
   "source": [
    "I tested the prediction of user-adoption using a random forest classifier against the accuracy using a Naïve Bayes model that predicted user adoption in 100% of cases. The machine learning model (accuracy of 0.85) did not show an improvement over the Naive Bayes model (accuracy of 0.87). No individual variables appear to be strongly predictive.\n",
    "\n",
    "I processed the data to create a list of “adopted users” by looping through the usage summary table (\"takehome_user_engagement\") for each unique user it contained using the Pandas “rolling” method and finding the maximum number of visits that occurred for them in a 7-day window. Three or greater visits received a “1” in a new “adopted_status” column. This was then merged with the rest of the user data.\n",
    "\n",
    "A significant training variable that I dropped from the from the takehome_users.csv file was last_session_creation_time, which is the timestamp of the user’s last login. An active user would have a higher frequency of logins and be more likely to have a recent last_session time, but the outcome variable is defined solely by the frequency of logins in a 7-day window. So, this would be a form of the outcome leaking into the training data.\n",
    "\n",
    "I looked briefly at engineering a feature for \"top influencers\", but most user ids have a relatively small amount of referrals. An alternate approach that could be explored is to change the criteria for an \"adopted user\". Instead of making it a binary classification of adopted vs non-adopted users, the outcome could be the maximum density of logins for each user ID within a 30-day window, and then analyzed as a regression problem.\n"
   ]
  },
  {
   "cell_type": "code",
   "execution_count": 1,
   "id": "e3bf8ac1",
   "metadata": {},
   "outputs": [],
   "source": [
    "import numpy as np\n",
    "import pandas as pd\n",
    "\n",
    "import datetime\n",
    "from tqdm import tqdm\n",
    "\n",
    "import matplotlib.pyplot as plt"
   ]
  },
  {
   "cell_type": "markdown",
   "id": "bbb54b19",
   "metadata": {},
   "source": [
    "## Data Cleaning"
   ]
  },
  {
   "cell_type": "code",
   "execution_count": 2,
   "id": "dd174b0d",
   "metadata": {},
   "outputs": [
    {
     "data": {
      "text/html": [
       "<div>\n",
       "<style scoped>\n",
       "    .dataframe tbody tr th:only-of-type {\n",
       "        vertical-align: middle;\n",
       "    }\n",
       "\n",
       "    .dataframe tbody tr th {\n",
       "        vertical-align: top;\n",
       "    }\n",
       "\n",
       "    .dataframe thead th {\n",
       "        text-align: right;\n",
       "    }\n",
       "</style>\n",
       "<table border=\"1\" class=\"dataframe\">\n",
       "  <thead>\n",
       "    <tr style=\"text-align: right;\">\n",
       "      <th></th>\n",
       "      <th>object_id</th>\n",
       "      <th>creation_time</th>\n",
       "      <th>name</th>\n",
       "      <th>email</th>\n",
       "      <th>creation_source</th>\n",
       "      <th>last_session_creation_time</th>\n",
       "      <th>opted_in_to_mailing_list</th>\n",
       "      <th>enabled_for_marketing_drip</th>\n",
       "      <th>org_id</th>\n",
       "      <th>invited_by_user_id</th>\n",
       "    </tr>\n",
       "  </thead>\n",
       "  <tbody>\n",
       "    <tr>\n",
       "      <th>0</th>\n",
       "      <td>1</td>\n",
       "      <td>2014-04-22 03:53:30</td>\n",
       "      <td>Clausen August</td>\n",
       "      <td>AugustCClausen@yahoo.com</td>\n",
       "      <td>GUEST_INVITE</td>\n",
       "      <td>1.398139e+09</td>\n",
       "      <td>1</td>\n",
       "      <td>0</td>\n",
       "      <td>11</td>\n",
       "      <td>10803.0</td>\n",
       "    </tr>\n",
       "    <tr>\n",
       "      <th>1</th>\n",
       "      <td>2</td>\n",
       "      <td>2013-11-15 03:45:04</td>\n",
       "      <td>Poole Matthew</td>\n",
       "      <td>MatthewPoole@gustr.com</td>\n",
       "      <td>ORG_INVITE</td>\n",
       "      <td>1.396238e+09</td>\n",
       "      <td>0</td>\n",
       "      <td>0</td>\n",
       "      <td>1</td>\n",
       "      <td>316.0</td>\n",
       "    </tr>\n",
       "    <tr>\n",
       "      <th>2</th>\n",
       "      <td>3</td>\n",
       "      <td>2013-03-19 23:14:52</td>\n",
       "      <td>Bottrill Mitchell</td>\n",
       "      <td>MitchellBottrill@gustr.com</td>\n",
       "      <td>ORG_INVITE</td>\n",
       "      <td>1.363735e+09</td>\n",
       "      <td>0</td>\n",
       "      <td>0</td>\n",
       "      <td>94</td>\n",
       "      <td>1525.0</td>\n",
       "    </tr>\n",
       "    <tr>\n",
       "      <th>3</th>\n",
       "      <td>4</td>\n",
       "      <td>2013-05-21 08:09:28</td>\n",
       "      <td>Clausen Nicklas</td>\n",
       "      <td>NicklasSClausen@yahoo.com</td>\n",
       "      <td>GUEST_INVITE</td>\n",
       "      <td>1.369210e+09</td>\n",
       "      <td>0</td>\n",
       "      <td>0</td>\n",
       "      <td>1</td>\n",
       "      <td>5151.0</td>\n",
       "    </tr>\n",
       "    <tr>\n",
       "      <th>4</th>\n",
       "      <td>5</td>\n",
       "      <td>2013-01-17 10:14:20</td>\n",
       "      <td>Raw Grace</td>\n",
       "      <td>GraceRaw@yahoo.com</td>\n",
       "      <td>GUEST_INVITE</td>\n",
       "      <td>1.358850e+09</td>\n",
       "      <td>0</td>\n",
       "      <td>0</td>\n",
       "      <td>193</td>\n",
       "      <td>5240.0</td>\n",
       "    </tr>\n",
       "  </tbody>\n",
       "</table>\n",
       "</div>"
      ],
      "text/plain": [
       "   object_id        creation_time               name  \\\n",
       "0          1  2014-04-22 03:53:30     Clausen August   \n",
       "1          2  2013-11-15 03:45:04      Poole Matthew   \n",
       "2          3  2013-03-19 23:14:52  Bottrill Mitchell   \n",
       "3          4  2013-05-21 08:09:28    Clausen Nicklas   \n",
       "4          5  2013-01-17 10:14:20          Raw Grace   \n",
       "\n",
       "                        email creation_source  last_session_creation_time  \\\n",
       "0    AugustCClausen@yahoo.com    GUEST_INVITE                1.398139e+09   \n",
       "1      MatthewPoole@gustr.com      ORG_INVITE                1.396238e+09   \n",
       "2  MitchellBottrill@gustr.com      ORG_INVITE                1.363735e+09   \n",
       "3   NicklasSClausen@yahoo.com    GUEST_INVITE                1.369210e+09   \n",
       "4          GraceRaw@yahoo.com    GUEST_INVITE                1.358850e+09   \n",
       "\n",
       "   opted_in_to_mailing_list  enabled_for_marketing_drip  org_id  \\\n",
       "0                         1                           0      11   \n",
       "1                         0                           0       1   \n",
       "2                         0                           0      94   \n",
       "3                         0                           0       1   \n",
       "4                         0                           0     193   \n",
       "\n",
       "   invited_by_user_id  \n",
       "0             10803.0  \n",
       "1               316.0  \n",
       "2              1525.0  \n",
       "3              5151.0  \n",
       "4              5240.0  "
      ]
     },
     "execution_count": 2,
     "metadata": {},
     "output_type": "execute_result"
    }
   ],
   "source": [
    "users = pd.read_csv('takehome_users.csv')\n",
    "users.head()"
   ]
  },
  {
   "cell_type": "code",
   "execution_count": 3,
   "id": "aef56eb6",
   "metadata": {},
   "outputs": [
    {
     "data": {
      "text/html": [
       "<div>\n",
       "<style scoped>\n",
       "    .dataframe tbody tr th:only-of-type {\n",
       "        vertical-align: middle;\n",
       "    }\n",
       "\n",
       "    .dataframe tbody tr th {\n",
       "        vertical-align: top;\n",
       "    }\n",
       "\n",
       "    .dataframe thead th {\n",
       "        text-align: right;\n",
       "    }\n",
       "</style>\n",
       "<table border=\"1\" class=\"dataframe\">\n",
       "  <thead>\n",
       "    <tr style=\"text-align: right;\">\n",
       "      <th></th>\n",
       "      <th>time_stamp</th>\n",
       "      <th>user_id</th>\n",
       "      <th>visited</th>\n",
       "    </tr>\n",
       "  </thead>\n",
       "  <tbody>\n",
       "    <tr>\n",
       "      <th>0</th>\n",
       "      <td>2014-04-22 03:53:30</td>\n",
       "      <td>1</td>\n",
       "      <td>1</td>\n",
       "    </tr>\n",
       "    <tr>\n",
       "      <th>1</th>\n",
       "      <td>2013-11-15 03:45:04</td>\n",
       "      <td>2</td>\n",
       "      <td>1</td>\n",
       "    </tr>\n",
       "    <tr>\n",
       "      <th>2</th>\n",
       "      <td>2013-11-29 03:45:04</td>\n",
       "      <td>2</td>\n",
       "      <td>1</td>\n",
       "    </tr>\n",
       "    <tr>\n",
       "      <th>3</th>\n",
       "      <td>2013-12-09 03:45:04</td>\n",
       "      <td>2</td>\n",
       "      <td>1</td>\n",
       "    </tr>\n",
       "    <tr>\n",
       "      <th>4</th>\n",
       "      <td>2013-12-25 03:45:04</td>\n",
       "      <td>2</td>\n",
       "      <td>1</td>\n",
       "    </tr>\n",
       "  </tbody>\n",
       "</table>\n",
       "</div>"
      ],
      "text/plain": [
       "            time_stamp  user_id  visited\n",
       "0  2014-04-22 03:53:30        1        1\n",
       "1  2013-11-15 03:45:04        2        1\n",
       "2  2013-11-29 03:45:04        2        1\n",
       "3  2013-12-09 03:45:04        2        1\n",
       "4  2013-12-25 03:45:04        2        1"
      ]
     },
     "execution_count": 3,
     "metadata": {},
     "output_type": "execute_result"
    }
   ],
   "source": [
    "visits = pd.read_csv('takehome_user_engagement.csv')\n",
    "visits.head()"
   ]
  },
  {
   "cell_type": "code",
   "execution_count": 4,
   "id": "202d941a",
   "metadata": {},
   "outputs": [
    {
     "name": "stdout",
     "output_type": "stream",
     "text": [
      "207917\n",
      "207220\n"
     ]
    }
   ],
   "source": [
    "print(len(visits))\n",
    "print(len(visits['time_stamp'].unique()))"
   ]
  },
  {
   "cell_type": "markdown",
   "id": "83067532",
   "metadata": {},
   "source": [
    "There are some identical timestamps so they need to be made unique to work as an index. Add very small random number to datetime and then sort. Index needs to be datetime for pandas rolling function."
   ]
  },
  {
   "cell_type": "code",
   "execution_count": 5,
   "id": "4ffead06",
   "metadata": {},
   "outputs": [],
   "source": [
    "# Convert to datetime\n",
    "visits['time_stamp'] = pd.to_datetime(visits['time_stamp'])\n",
    "\n",
    "# Make datetimes unique\n",
    "visits['timedelta'] = np.random.uniform(0,.01)\n",
    "visits['timedelta'] = pd.to_timedelta(visits['timedelta'])\n",
    "visits['adj_time'] = visits['time_stamp'] + visits['timedelta']"
   ]
  },
  {
   "cell_type": "code",
   "execution_count": 6,
   "id": "9850f084",
   "metadata": {},
   "outputs": [],
   "source": [
    "# Sort in ascending time\n",
    "visits.sort_values('adj_time', ascending=True, inplace=True)"
   ]
  },
  {
   "cell_type": "code",
   "execution_count": 7,
   "id": "f696d1b6",
   "metadata": {},
   "outputs": [],
   "source": [
    "# Reset the index using the unique timestamps\n",
    "visits.set_index('adj_time', inplace=True)"
   ]
  },
  {
   "cell_type": "code",
   "execution_count": 8,
   "id": "cb043ab1",
   "metadata": {},
   "outputs": [
    {
     "data": {
      "text/html": [
       "<div>\n",
       "<style scoped>\n",
       "    .dataframe tbody tr th:only-of-type {\n",
       "        vertical-align: middle;\n",
       "    }\n",
       "\n",
       "    .dataframe tbody tr th {\n",
       "        vertical-align: top;\n",
       "    }\n",
       "\n",
       "    .dataframe thead th {\n",
       "        text-align: right;\n",
       "    }\n",
       "</style>\n",
       "<table border=\"1\" class=\"dataframe\">\n",
       "  <thead>\n",
       "    <tr style=\"text-align: right;\">\n",
       "      <th></th>\n",
       "      <th>time_stamp</th>\n",
       "      <th>user_id</th>\n",
       "      <th>visited</th>\n",
       "      <th>timedelta</th>\n",
       "    </tr>\n",
       "    <tr>\n",
       "      <th>adj_time</th>\n",
       "      <th></th>\n",
       "      <th></th>\n",
       "      <th></th>\n",
       "      <th></th>\n",
       "    </tr>\n",
       "  </thead>\n",
       "  <tbody>\n",
       "    <tr>\n",
       "      <th>2014-06-04 23:32:13</th>\n",
       "      <td>2014-06-04 23:32:13</td>\n",
       "      <td>4625</td>\n",
       "      <td>1</td>\n",
       "      <td>0 days</td>\n",
       "    </tr>\n",
       "    <tr>\n",
       "      <th>2014-06-04 23:34:04</th>\n",
       "      <td>2014-06-04 23:34:04</td>\n",
       "      <td>9325</td>\n",
       "      <td>1</td>\n",
       "      <td>0 days</td>\n",
       "    </tr>\n",
       "    <tr>\n",
       "      <th>2014-06-04 23:46:31</th>\n",
       "      <td>2014-06-04 23:46:31</td>\n",
       "      <td>9558</td>\n",
       "      <td>1</td>\n",
       "      <td>0 days</td>\n",
       "    </tr>\n",
       "    <tr>\n",
       "      <th>2014-06-04 23:56:26</th>\n",
       "      <td>2014-06-04 23:56:26</td>\n",
       "      <td>341</td>\n",
       "      <td>1</td>\n",
       "      <td>0 days</td>\n",
       "    </tr>\n",
       "    <tr>\n",
       "      <th>2014-06-06 14:58:50</th>\n",
       "      <td>2014-06-06 14:58:50</td>\n",
       "      <td>4051</td>\n",
       "      <td>1</td>\n",
       "      <td>0 days</td>\n",
       "    </tr>\n",
       "  </tbody>\n",
       "</table>\n",
       "</div>"
      ],
      "text/plain": [
       "                             time_stamp  user_id  visited timedelta\n",
       "adj_time                                                           \n",
       "2014-06-04 23:32:13 2014-06-04 23:32:13     4625        1    0 days\n",
       "2014-06-04 23:34:04 2014-06-04 23:34:04     9325        1    0 days\n",
       "2014-06-04 23:46:31 2014-06-04 23:46:31     9558        1    0 days\n",
       "2014-06-04 23:56:26 2014-06-04 23:56:26      341        1    0 days\n",
       "2014-06-06 14:58:50 2014-06-06 14:58:50     4051        1    0 days"
      ]
     },
     "execution_count": 8,
     "metadata": {},
     "output_type": "execute_result"
    }
   ],
   "source": [
    "visits.tail()"
   ]
  },
  {
   "cell_type": "markdown",
   "id": "6041e4bd",
   "metadata": {},
   "source": [
    "Check to make sure each row in the dataframe is a visit on a unique day for a unique user"
   ]
  },
  {
   "cell_type": "code",
   "execution_count": 9,
   "id": "bfeb6bd9",
   "metadata": {},
   "outputs": [
    {
     "name": "stdout",
     "output_type": "stream",
     "text": [
      "207917\n",
      "207917\n"
     ]
    }
   ],
   "source": [
    "print(len(visits))\n",
    "\n",
    "visits['visit_date'] = visits['time_stamp'].dt.date\n",
    "print(len(visits.groupby(['user_id','visit_date']).count()))"
   ]
  },
  {
   "cell_type": "markdown",
   "id": "dd9c58a1",
   "metadata": {},
   "source": [
    "Determine which users logged in during 3 unique days within a 7 day period:"
   ]
  },
  {
   "cell_type": "code",
   "execution_count": 10,
   "id": "6fe64c87",
   "metadata": {},
   "outputs": [],
   "source": [
    "# Start empty lists to append values to as the pandas \"rolling\" function assesses 7-day periods \n",
    "user_id = []\n",
    "max_rolling_visits = []"
   ]
  },
  {
   "cell_type": "code",
   "execution_count": 11,
   "id": "289588e8",
   "metadata": {},
   "outputs": [
    {
     "name": "stderr",
     "output_type": "stream",
     "text": [
      "100%|██████████| 8823/8823 [00:10<00:00, 837.45it/s]\n"
     ]
    }
   ],
   "source": [
    "for user in tqdm(visits['user_id'].unique()):\n",
    "    user_id.append(user)\n",
    "    max_rolling_visits.append(visits[visits['user_id'] == user].rolling('7d').sum()['visited'].max())"
   ]
  },
  {
   "cell_type": "code",
   "execution_count": 12,
   "id": "c6ee5e58",
   "metadata": {},
   "outputs": [
    {
     "data": {
      "text/html": [
       "<div>\n",
       "<style scoped>\n",
       "    .dataframe tbody tr th:only-of-type {\n",
       "        vertical-align: middle;\n",
       "    }\n",
       "\n",
       "    .dataframe tbody tr th {\n",
       "        vertical-align: top;\n",
       "    }\n",
       "\n",
       "    .dataframe thead th {\n",
       "        text-align: right;\n",
       "    }\n",
       "</style>\n",
       "<table border=\"1\" class=\"dataframe\">\n",
       "  <thead>\n",
       "    <tr style=\"text-align: right;\">\n",
       "      <th></th>\n",
       "      <th>user_id</th>\n",
       "      <th>max_7day_window</th>\n",
       "    </tr>\n",
       "  </thead>\n",
       "  <tbody>\n",
       "    <tr>\n",
       "      <th>0</th>\n",
       "      <td>10012</td>\n",
       "      <td>1.0</td>\n",
       "    </tr>\n",
       "    <tr>\n",
       "      <th>1</th>\n",
       "      <td>3428</td>\n",
       "      <td>2.0</td>\n",
       "    </tr>\n",
       "    <tr>\n",
       "      <th>2</th>\n",
       "      <td>9899</td>\n",
       "      <td>1.0</td>\n",
       "    </tr>\n",
       "    <tr>\n",
       "      <th>3</th>\n",
       "      <td>1693</td>\n",
       "      <td>7.0</td>\n",
       "    </tr>\n",
       "    <tr>\n",
       "      <th>4</th>\n",
       "      <td>6102</td>\n",
       "      <td>1.0</td>\n",
       "    </tr>\n",
       "  </tbody>\n",
       "</table>\n",
       "</div>"
      ],
      "text/plain": [
       "   user_id  max_7day_window\n",
       "0    10012              1.0\n",
       "1     3428              2.0\n",
       "2     9899              1.0\n",
       "3     1693              7.0\n",
       "4     6102              1.0"
      ]
     },
     "execution_count": 12,
     "metadata": {},
     "output_type": "execute_result"
    }
   ],
   "source": [
    "adopted_status = pd.DataFrame({'user_id': user_id, 'max_7day_window': max_rolling_visits})\n",
    "adopted_status.head()"
   ]
  },
  {
   "cell_type": "code",
   "execution_count": 13,
   "id": "ca633e32",
   "metadata": {},
   "outputs": [
    {
     "data": {
      "text/html": [
       "<div>\n",
       "<style scoped>\n",
       "    .dataframe tbody tr th:only-of-type {\n",
       "        vertical-align: middle;\n",
       "    }\n",
       "\n",
       "    .dataframe tbody tr th {\n",
       "        vertical-align: top;\n",
       "    }\n",
       "\n",
       "    .dataframe thead th {\n",
       "        text-align: right;\n",
       "    }\n",
       "</style>\n",
       "<table border=\"1\" class=\"dataframe\">\n",
       "  <thead>\n",
       "    <tr style=\"text-align: right;\">\n",
       "      <th></th>\n",
       "      <th>time_stamp</th>\n",
       "      <th>user_id</th>\n",
       "      <th>visited</th>\n",
       "      <th>timedelta</th>\n",
       "      <th>visit_date</th>\n",
       "    </tr>\n",
       "    <tr>\n",
       "      <th>adj_time</th>\n",
       "      <th></th>\n",
       "      <th></th>\n",
       "      <th></th>\n",
       "      <th></th>\n",
       "      <th></th>\n",
       "    </tr>\n",
       "  </thead>\n",
       "  <tbody>\n",
       "    <tr>\n",
       "      <th>2012-05-31 15:47:36</th>\n",
       "      <td>2012-05-31 15:47:36</td>\n",
       "      <td>3428</td>\n",
       "      <td>1</td>\n",
       "      <td>0 days</td>\n",
       "      <td>2012-05-31</td>\n",
       "    </tr>\n",
       "    <tr>\n",
       "      <th>2012-06-08 15:47:36</th>\n",
       "      <td>2012-06-08 15:47:36</td>\n",
       "      <td>3428</td>\n",
       "      <td>1</td>\n",
       "      <td>0 days</td>\n",
       "      <td>2012-06-08</td>\n",
       "    </tr>\n",
       "    <tr>\n",
       "      <th>2012-07-07 15:47:36</th>\n",
       "      <td>2012-07-07 15:47:36</td>\n",
       "      <td>3428</td>\n",
       "      <td>1</td>\n",
       "      <td>0 days</td>\n",
       "      <td>2012-07-07</td>\n",
       "    </tr>\n",
       "    <tr>\n",
       "      <th>2012-07-22 15:47:36</th>\n",
       "      <td>2012-07-22 15:47:36</td>\n",
       "      <td>3428</td>\n",
       "      <td>1</td>\n",
       "      <td>0 days</td>\n",
       "      <td>2012-07-22</td>\n",
       "    </tr>\n",
       "    <tr>\n",
       "      <th>2012-07-31 15:47:36</th>\n",
       "      <td>2012-07-31 15:47:36</td>\n",
       "      <td>3428</td>\n",
       "      <td>1</td>\n",
       "      <td>0 days</td>\n",
       "      <td>2012-07-31</td>\n",
       "    </tr>\n",
       "    <tr>\n",
       "      <th>2012-08-27 15:47:36</th>\n",
       "      <td>2012-08-27 15:47:36</td>\n",
       "      <td>3428</td>\n",
       "      <td>1</td>\n",
       "      <td>0 days</td>\n",
       "      <td>2012-08-27</td>\n",
       "    </tr>\n",
       "    <tr>\n",
       "      <th>2012-08-28 15:47:36</th>\n",
       "      <td>2012-08-28 15:47:36</td>\n",
       "      <td>3428</td>\n",
       "      <td>1</td>\n",
       "      <td>0 days</td>\n",
       "      <td>2012-08-28</td>\n",
       "    </tr>\n",
       "    <tr>\n",
       "      <th>2012-09-03 15:47:36</th>\n",
       "      <td>2012-09-03 15:47:36</td>\n",
       "      <td>3428</td>\n",
       "      <td>1</td>\n",
       "      <td>0 days</td>\n",
       "      <td>2012-09-03</td>\n",
       "    </tr>\n",
       "    <tr>\n",
       "      <th>2012-09-26 15:47:36</th>\n",
       "      <td>2012-09-26 15:47:36</td>\n",
       "      <td>3428</td>\n",
       "      <td>1</td>\n",
       "      <td>0 days</td>\n",
       "      <td>2012-09-26</td>\n",
       "    </tr>\n",
       "    <tr>\n",
       "      <th>2012-10-10 15:47:36</th>\n",
       "      <td>2012-10-10 15:47:36</td>\n",
       "      <td>3428</td>\n",
       "      <td>1</td>\n",
       "      <td>0 days</td>\n",
       "      <td>2012-10-10</td>\n",
       "    </tr>\n",
       "    <tr>\n",
       "      <th>2012-10-16 15:47:36</th>\n",
       "      <td>2012-10-16 15:47:36</td>\n",
       "      <td>3428</td>\n",
       "      <td>1</td>\n",
       "      <td>0 days</td>\n",
       "      <td>2012-10-16</td>\n",
       "    </tr>\n",
       "    <tr>\n",
       "      <th>2012-10-21 15:47:36</th>\n",
       "      <td>2012-10-21 15:47:36</td>\n",
       "      <td>3428</td>\n",
       "      <td>1</td>\n",
       "      <td>0 days</td>\n",
       "      <td>2012-10-21</td>\n",
       "    </tr>\n",
       "    <tr>\n",
       "      <th>2012-11-09 15:47:36</th>\n",
       "      <td>2012-11-09 15:47:36</td>\n",
       "      <td>3428</td>\n",
       "      <td>1</td>\n",
       "      <td>0 days</td>\n",
       "      <td>2012-11-09</td>\n",
       "    </tr>\n",
       "    <tr>\n",
       "      <th>2012-11-13 15:47:36</th>\n",
       "      <td>2012-11-13 15:47:36</td>\n",
       "      <td>3428</td>\n",
       "      <td>1</td>\n",
       "      <td>0 days</td>\n",
       "      <td>2012-11-13</td>\n",
       "    </tr>\n",
       "  </tbody>\n",
       "</table>\n",
       "</div>"
      ],
      "text/plain": [
       "                             time_stamp  user_id  visited timedelta  \\\n",
       "adj_time                                                              \n",
       "2012-05-31 15:47:36 2012-05-31 15:47:36     3428        1    0 days   \n",
       "2012-06-08 15:47:36 2012-06-08 15:47:36     3428        1    0 days   \n",
       "2012-07-07 15:47:36 2012-07-07 15:47:36     3428        1    0 days   \n",
       "2012-07-22 15:47:36 2012-07-22 15:47:36     3428        1    0 days   \n",
       "2012-07-31 15:47:36 2012-07-31 15:47:36     3428        1    0 days   \n",
       "2012-08-27 15:47:36 2012-08-27 15:47:36     3428        1    0 days   \n",
       "2012-08-28 15:47:36 2012-08-28 15:47:36     3428        1    0 days   \n",
       "2012-09-03 15:47:36 2012-09-03 15:47:36     3428        1    0 days   \n",
       "2012-09-26 15:47:36 2012-09-26 15:47:36     3428        1    0 days   \n",
       "2012-10-10 15:47:36 2012-10-10 15:47:36     3428        1    0 days   \n",
       "2012-10-16 15:47:36 2012-10-16 15:47:36     3428        1    0 days   \n",
       "2012-10-21 15:47:36 2012-10-21 15:47:36     3428        1    0 days   \n",
       "2012-11-09 15:47:36 2012-11-09 15:47:36     3428        1    0 days   \n",
       "2012-11-13 15:47:36 2012-11-13 15:47:36     3428        1    0 days   \n",
       "\n",
       "                     visit_date  \n",
       "adj_time                         \n",
       "2012-05-31 15:47:36  2012-05-31  \n",
       "2012-06-08 15:47:36  2012-06-08  \n",
       "2012-07-07 15:47:36  2012-07-07  \n",
       "2012-07-22 15:47:36  2012-07-22  \n",
       "2012-07-31 15:47:36  2012-07-31  \n",
       "2012-08-27 15:47:36  2012-08-27  \n",
       "2012-08-28 15:47:36  2012-08-28  \n",
       "2012-09-03 15:47:36  2012-09-03  \n",
       "2012-09-26 15:47:36  2012-09-26  \n",
       "2012-10-10 15:47:36  2012-10-10  \n",
       "2012-10-16 15:47:36  2012-10-16  \n",
       "2012-10-21 15:47:36  2012-10-21  \n",
       "2012-11-09 15:47:36  2012-11-09  \n",
       "2012-11-13 15:47:36  2012-11-13  "
      ]
     },
     "execution_count": 13,
     "metadata": {},
     "output_type": "execute_result"
    }
   ],
   "source": [
    "# visually inspect an example user to check if 7-day max is accurate; looks okay\n",
    "visits[visits['user_id'] == 3428]"
   ]
  },
  {
   "cell_type": "code",
   "execution_count": 14,
   "id": "9df4449e",
   "metadata": {},
   "outputs": [],
   "source": [
    "adopted_status['adopted_user'] = (adopted_status['max_7day_window'] >= 3).astype(int)"
   ]
  },
  {
   "cell_type": "code",
   "execution_count": 15,
   "id": "47ad4866",
   "metadata": {},
   "outputs": [],
   "source": [
    "# Merge the adopted user status into the main dataframe\n",
    "\n",
    "df = pd.merge(users, adopted_status[['user_id','adopted_user']], how='left', left_on='object_id', right_on='user_id')\n",
    "df.drop('user_id', axis=1, inplace=True)"
   ]
  },
  {
   "cell_type": "code",
   "execution_count": 16,
   "id": "228d7753",
   "metadata": {},
   "outputs": [
    {
     "name": "stdout",
     "output_type": "stream",
     "text": [
      "8823\n",
      "12000\n"
     ]
    }
   ],
   "source": [
    "# Check if all of the users from the users data frame show up in the visits dataframe\n",
    "print(len(visits['user_id'].unique()))\n",
    "print(len(users['object_id'].unique()))"
   ]
  },
  {
   "cell_type": "markdown",
   "id": "048e9013",
   "metadata": {},
   "source": [
    "There are more user IDs in the takehome_users dataset than there are in the visits dataset. This most likely means that these users did not login during the timeframe of data collection and they should not be considered adopted users. Zero fill missing values."
   ]
  },
  {
   "cell_type": "code",
   "execution_count": 17,
   "id": "c50b9d56",
   "metadata": {},
   "outputs": [
    {
     "data": {
      "text/plain": [
       "object_id                        0\n",
       "creation_time                    0\n",
       "name                             0\n",
       "email                            0\n",
       "creation_source                  0\n",
       "last_session_creation_time    3177\n",
       "opted_in_to_mailing_list         0\n",
       "enabled_for_marketing_drip       0\n",
       "org_id                           0\n",
       "invited_by_user_id            5583\n",
       "adopted_user                  3177\n",
       "dtype: int64"
      ]
     },
     "execution_count": 17,
     "metadata": {},
     "output_type": "execute_result"
    }
   ],
   "source": [
    "df.isna().sum()"
   ]
  },
  {
   "cell_type": "code",
   "execution_count": 18,
   "id": "ef51f7a8",
   "metadata": {},
   "outputs": [],
   "source": [
    "df['adopted_user'].fillna(0, inplace=True)"
   ]
  },
  {
   "cell_type": "markdown",
   "id": "101b4ac3",
   "metadata": {},
   "source": [
    "## Pre-Processing"
   ]
  },
  {
   "cell_type": "code",
   "execution_count": 19,
   "id": "312e800f",
   "metadata": {},
   "outputs": [
    {
     "data": {
      "text/plain": [
       "object_id                       int64\n",
       "creation_time                  object\n",
       "name                           object\n",
       "email                          object\n",
       "creation_source                object\n",
       "last_session_creation_time    float64\n",
       "opted_in_to_mailing_list        int64\n",
       "enabled_for_marketing_drip      int64\n",
       "org_id                          int64\n",
       "invited_by_user_id            float64\n",
       "adopted_user                  float64\n",
       "dtype: object"
      ]
     },
     "execution_count": 19,
     "metadata": {},
     "output_type": "execute_result"
    }
   ],
   "source": [
    "df.dtypes"
   ]
  },
  {
   "cell_type": "code",
   "execution_count": 20,
   "id": "a094046e",
   "metadata": {},
   "outputs": [],
   "source": [
    "# Drop user_id, name, and email since they aren't expected to be predictive and would have many dummy variables\n",
    "df.drop(['object_id', 'name', 'email'], axis=1, inplace=True)"
   ]
  },
  {
   "cell_type": "markdown",
   "id": "58a229ea",
   "metadata": {},
   "source": [
    "- Drop last_session_creation_time; data on the users login patterns are what determine whether they are adopted user, so keeping this in would blur the line between input and target variables. \n",
    "- I am keeping creation_time because early users might be more excited about the product and more likely to become adopted users."
   ]
  },
  {
   "cell_type": "code",
   "execution_count": 21,
   "id": "87fb3acb",
   "metadata": {},
   "outputs": [],
   "source": [
    "# Drop datetime data described above\n",
    "df.drop(['last_session_creation_time'], axis=1, inplace=True)"
   ]
  },
  {
   "cell_type": "code",
   "execution_count": 22,
   "id": "b8ae9a54",
   "metadata": {},
   "outputs": [],
   "source": [
    "# Create dummy variable for 'creation_source'\n",
    "one_hot = pd.get_dummies(df['creation_source'])\n",
    "df.drop('creation_source', axis=1, inplace=True)\n",
    "df = df.join(one_hot)"
   ]
  },
  {
   "cell_type": "code",
   "execution_count": 23,
   "id": "d5f2b8b2",
   "metadata": {},
   "outputs": [],
   "source": [
    "# Zero-fill NaN values in \"invited_by_user_id\" column\n",
    "df['invited_by_user_id'].fillna(0, inplace=True)"
   ]
  },
  {
   "cell_type": "code",
   "execution_count": 24,
   "id": "35fc2dc1",
   "metadata": {
    "scrolled": true
   },
   "outputs": [
    {
     "data": {
      "text/html": [
       "<div>\n",
       "<style scoped>\n",
       "    .dataframe tbody tr th:only-of-type {\n",
       "        vertical-align: middle;\n",
       "    }\n",
       "\n",
       "    .dataframe tbody tr th {\n",
       "        vertical-align: top;\n",
       "    }\n",
       "\n",
       "    .dataframe thead th {\n",
       "        text-align: right;\n",
       "    }\n",
       "</style>\n",
       "<table border=\"1\" class=\"dataframe\">\n",
       "  <thead>\n",
       "    <tr style=\"text-align: right;\">\n",
       "      <th></th>\n",
       "      <th>creation_time</th>\n",
       "      <th>opted_in_to_mailing_list</th>\n",
       "      <th>enabled_for_marketing_drip</th>\n",
       "      <th>org_id</th>\n",
       "      <th>invited_by_user_id</th>\n",
       "      <th>adopted_user</th>\n",
       "      <th>GUEST_INVITE</th>\n",
       "      <th>ORG_INVITE</th>\n",
       "      <th>PERSONAL_PROJECTS</th>\n",
       "      <th>SIGNUP</th>\n",
       "      <th>SIGNUP_GOOGLE_AUTH</th>\n",
       "    </tr>\n",
       "  </thead>\n",
       "  <tbody>\n",
       "    <tr>\n",
       "      <th>0</th>\n",
       "      <td>2014-04-22 03:53:30</td>\n",
       "      <td>1</td>\n",
       "      <td>0</td>\n",
       "      <td>11</td>\n",
       "      <td>10803.0</td>\n",
       "      <td>0.0</td>\n",
       "      <td>1</td>\n",
       "      <td>0</td>\n",
       "      <td>0</td>\n",
       "      <td>0</td>\n",
       "      <td>0</td>\n",
       "    </tr>\n",
       "    <tr>\n",
       "      <th>1</th>\n",
       "      <td>2013-11-15 03:45:04</td>\n",
       "      <td>0</td>\n",
       "      <td>0</td>\n",
       "      <td>1</td>\n",
       "      <td>316.0</td>\n",
       "      <td>1.0</td>\n",
       "      <td>0</td>\n",
       "      <td>1</td>\n",
       "      <td>0</td>\n",
       "      <td>0</td>\n",
       "      <td>0</td>\n",
       "    </tr>\n",
       "    <tr>\n",
       "      <th>2</th>\n",
       "      <td>2013-03-19 23:14:52</td>\n",
       "      <td>0</td>\n",
       "      <td>0</td>\n",
       "      <td>94</td>\n",
       "      <td>1525.0</td>\n",
       "      <td>0.0</td>\n",
       "      <td>0</td>\n",
       "      <td>1</td>\n",
       "      <td>0</td>\n",
       "      <td>0</td>\n",
       "      <td>0</td>\n",
       "    </tr>\n",
       "    <tr>\n",
       "      <th>3</th>\n",
       "      <td>2013-05-21 08:09:28</td>\n",
       "      <td>0</td>\n",
       "      <td>0</td>\n",
       "      <td>1</td>\n",
       "      <td>5151.0</td>\n",
       "      <td>0.0</td>\n",
       "      <td>1</td>\n",
       "      <td>0</td>\n",
       "      <td>0</td>\n",
       "      <td>0</td>\n",
       "      <td>0</td>\n",
       "    </tr>\n",
       "    <tr>\n",
       "      <th>4</th>\n",
       "      <td>2013-01-17 10:14:20</td>\n",
       "      <td>0</td>\n",
       "      <td>0</td>\n",
       "      <td>193</td>\n",
       "      <td>5240.0</td>\n",
       "      <td>0.0</td>\n",
       "      <td>1</td>\n",
       "      <td>0</td>\n",
       "      <td>0</td>\n",
       "      <td>0</td>\n",
       "      <td>0</td>\n",
       "    </tr>\n",
       "  </tbody>\n",
       "</table>\n",
       "</div>"
      ],
      "text/plain": [
       "         creation_time  opted_in_to_mailing_list  enabled_for_marketing_drip  \\\n",
       "0  2014-04-22 03:53:30                         1                           0   \n",
       "1  2013-11-15 03:45:04                         0                           0   \n",
       "2  2013-03-19 23:14:52                         0                           0   \n",
       "3  2013-05-21 08:09:28                         0                           0   \n",
       "4  2013-01-17 10:14:20                         0                           0   \n",
       "\n",
       "   org_id  invited_by_user_id  adopted_user  GUEST_INVITE  ORG_INVITE  \\\n",
       "0      11             10803.0           0.0             1           0   \n",
       "1       1               316.0           1.0             0           1   \n",
       "2      94              1525.0           0.0             0           1   \n",
       "3       1              5151.0           0.0             1           0   \n",
       "4     193              5240.0           0.0             1           0   \n",
       "\n",
       "   PERSONAL_PROJECTS  SIGNUP  SIGNUP_GOOGLE_AUTH  \n",
       "0                  0       0                   0  \n",
       "1                  0       0                   0  \n",
       "2                  0       0                   0  \n",
       "3                  0       0                   0  \n",
       "4                  0       0                   0  "
      ]
     },
     "execution_count": 24,
     "metadata": {},
     "output_type": "execute_result"
    }
   ],
   "source": [
    "df.head()"
   ]
  },
  {
   "cell_type": "markdown",
   "id": "9fa85c35",
   "metadata": {},
   "source": [
    "## Modeling"
   ]
  },
  {
   "cell_type": "code",
   "execution_count": 25,
   "id": "920884a5",
   "metadata": {},
   "outputs": [],
   "source": [
    "X = df.drop('adopted_user', axis=1)\n",
    "y = df['adopted_user'].astype(int)"
   ]
  },
  {
   "cell_type": "code",
   "execution_count": 26,
   "id": "24980c5c",
   "metadata": {},
   "outputs": [],
   "source": [
    "# Sklearn does not accept datetime formats; convert creation time back into ordinal\n",
    "X['creation_time'] = pd.to_datetime(df['creation_time'])\n",
    "X['creation_time'] = X['creation_time'].map(datetime.datetime.toordinal)"
   ]
  },
  {
   "cell_type": "code",
   "execution_count": 27,
   "id": "eb79f351",
   "metadata": {},
   "outputs": [],
   "source": [
    "from sklearn.model_selection import train_test_split\n",
    "X_train, X_test, y_train, y_test = train_test_split(X, y, test_size=0.3, random_state = 41)"
   ]
  },
  {
   "cell_type": "code",
   "execution_count": 28,
   "id": "7d4c3583",
   "metadata": {},
   "outputs": [
    {
     "data": {
      "text/plain": [
       "0.8511111111111112"
      ]
     },
     "execution_count": 28,
     "metadata": {},
     "output_type": "execute_result"
    }
   ],
   "source": [
    "# Import model\n",
    "from sklearn.ensemble import RandomForestClassifier\n",
    "\n",
    "# Instantiate model with 100 decision trees\n",
    "model = RandomForestClassifier(n_estimators = 100, random_state = 42)\n",
    "\n",
    "# Train the model on training data\n",
    "model.fit(X_train, y_train);\n",
    "\n",
    "y_pred = model.predict(X_test)\n",
    "\n",
    "model.score(X_test, y_test)"
   ]
  },
  {
   "cell_type": "code",
   "execution_count": 29,
   "id": "6d75b1d5",
   "metadata": {},
   "outputs": [
    {
     "data": {
      "text/plain": [
       "array([[0.97, 0.03],\n",
       "       [0.36, 0.64],\n",
       "       [0.65, 0.35],\n",
       "       ...,\n",
       "       [1.  , 0.  ],\n",
       "       [0.99, 0.01],\n",
       "       [0.97, 0.03]])"
      ]
     },
     "execution_count": 29,
     "metadata": {},
     "output_type": "execute_result"
    }
   ],
   "source": [
    "model.predict_proba(X)"
   ]
  },
  {
   "cell_type": "markdown",
   "id": "9babf43a",
   "metadata": {},
   "source": [
    "Visualize a decision tree from the random forest. creation_time, org_ID, and invited_user_id create too many branches to visualize, so omit them in the model for visualization purposes."
   ]
  },
  {
   "cell_type": "code",
   "execution_count": 30,
   "id": "91145f89",
   "metadata": {},
   "outputs": [
    {
     "data": {
      "text/plain": [
       "0.865"
      ]
     },
     "execution_count": 30,
     "metadata": {},
     "output_type": "execute_result"
    }
   ],
   "source": [
    "# Drop features with a high number of values for visualization purposes\n",
    "X2 = df.drop(['creation_time', 'invited_by_user_id', 'org_id', 'adopted_user'], axis=1)\n",
    "X_train2, X_test2, y_train2, y_test2 = train_test_split(X2, y, test_size=0.3, random_state = 42)\n",
    "\n",
    "# Instantiate model with 100 decision trees\n",
    "vizmodel = RandomForestClassifier(n_estimators = 100, random_state = 42)\n",
    "\n",
    "# Train the model on training data\n",
    "vizmodel.fit(X_train2, y_train2);\n",
    "\n",
    "y_pred2 = vizmodel.predict(X_test2)\n",
    "\n",
    "vizmodel.score(X_test2, y_test2)"
   ]
  },
  {
   "cell_type": "code",
   "execution_count": 31,
   "id": "954febe7",
   "metadata": {},
   "outputs": [
    {
     "data": {
      "image/png": "[encoded data removed]",
      "text/plain": [
       "<IPython.core.display.Image object>"
      ]
     },
     "execution_count": 31,
     "metadata": {},
     "output_type": "execute_result"
    }
   ],
   "source": [
    "# Extract single tree\n",
    "estimator = vizmodel.estimators_[0]\n",
    "\n",
    "from sklearn.tree import export_graphviz\n",
    "# Export as dot file\n",
    "export_graphviz(estimator, out_file='tree.dot', \n",
    "                feature_names = list(X2.columns),\n",
    "                class_names = ['not_adopted', 'adopted'],\n",
    "                rounded = True, proportion = False, \n",
    "                precision = 2, filled = True)\n",
    "\n",
    "# Convert to png using system command (requires Graphviz)\n",
    "from subprocess import call\n",
    "call(['dot', '-Tpng', 'tree.dot', '-o', 'tree.png', '-Gdpi=60'])\n",
    "\n",
    "# Display in jupyter notebook\n",
    "from IPython.display import Image\n",
    "Image(filename = 'tree.png')"
   ]
  },
  {
   "cell_type": "code",
   "execution_count": 32,
   "id": "985a5c44",
   "metadata": {},
   "outputs": [
    {
     "data": {
      "text/plain": [
       "<Figure size 432x288 with 0 Axes>"
      ]
     },
     "metadata": {},
     "output_type": "display_data"
    },
    {
     "data": {
      "image/png": "[encoded data removed]",
      "text/plain": [
       "<Figure size 432x288 with 2 Axes>"
      ]
     },
     "metadata": {
      "needs_background": "light"
     },
     "output_type": "display_data"
    }
   ],
   "source": [
    "from sklearn.metrics import confusion_matrix, plot_confusion_matrix\n",
    "\n",
    "model_cm = confusion_matrix(y_true=y_pred, y_pred=y_pred)\n",
    "\n",
    "plt.figure()\n",
    "plot_confusion_matrix(model, X_test, y_test)\n",
    "plt.show()"
   ]
  },
  {
   "cell_type": "code",
   "execution_count": 33,
   "id": "6f7afec2",
   "metadata": {},
   "outputs": [
    {
     "data": {
      "text/plain": [
       "0.8511111111111112"
      ]
     },
     "execution_count": 33,
     "metadata": {},
     "output_type": "execute_result"
    }
   ],
   "source": [
    "# Check accuracy\n",
    "(3049+15)/len(y_test)"
   ]
  },
  {
   "cell_type": "markdown",
   "id": "ac9db2d5",
   "metadata": {},
   "source": [
    "Check naive bayes accuracy on test set."
   ]
  },
  {
   "cell_type": "code",
   "execution_count": 34,
   "id": "390362a1",
   "metadata": {},
   "outputs": [
    {
     "data": {
      "text/plain": [
       "0.13277777777777777"
      ]
     },
     "execution_count": 34,
     "metadata": {},
     "output_type": "execute_result"
    }
   ],
   "source": [
    "# Fraction of adopted users\n",
    "percent_adopted = sum(y_test)/len(y_test)\n",
    "percent_adopted"
   ]
  },
  {
   "cell_type": "code",
   "execution_count": 35,
   "id": "a1559ce1",
   "metadata": {},
   "outputs": [
    {
     "data": {
      "text/plain": [
       "0.8672222222222222"
      ]
     },
     "execution_count": 35,
     "metadata": {},
     "output_type": "execute_result"
    }
   ],
   "source": [
    "# Naive bayes for test set\n",
    "sum(y_test==0)/len(y_test)"
   ]
  },
  {
   "cell_type": "markdown",
   "id": "ca770879",
   "metadata": {},
   "source": [
    "Check naive bayes accuracy on whole dataset."
   ]
  },
  {
   "cell_type": "code",
   "execution_count": 36,
   "id": "bbd302bf",
   "metadata": {},
   "outputs": [],
   "source": [
    "total_adopted = len(df[df['adopted_user']==0])"
   ]
  },
  {
   "cell_type": "code",
   "execution_count": 37,
   "id": "69459feb",
   "metadata": {},
   "outputs": [],
   "source": [
    "total_users = len(df)"
   ]
  },
  {
   "cell_type": "code",
   "execution_count": 38,
   "id": "42fd8e49",
   "metadata": {},
   "outputs": [
    {
     "data": {
      "text/plain": [
       "0.8665"
      ]
     },
     "execution_count": 38,
     "metadata": {},
     "output_type": "execute_result"
    }
   ],
   "source": [
    "total_adopted/total_users"
   ]
  },
  {
   "cell_type": "code",
   "execution_count": 39,
   "id": "36bcf2d6",
   "metadata": {},
   "outputs": [
    {
     "data": {
      "text/plain": [
       "creation_time                -0.088008\n",
       "opted_in_to_mailing_list      0.008097\n",
       "enabled_for_marketing_drip    0.004653\n",
       "org_id                        0.064523\n",
       "invited_by_user_id            0.021596\n",
       "GUEST_INVITE                  0.045408\n",
       "ORG_INVITE                   -0.007636\n",
       "PERSONAL_PROJECTS            -0.075817\n",
       "SIGNUP                        0.009299\n",
       "SIGNUP_GOOGLE_AUTH            0.036119\n",
       "dtype: float64"
      ]
     },
     "execution_count": 39,
     "metadata": {},
     "output_type": "execute_result"
    }
   ],
   "source": [
    "# Investigate result; are any variables correlated with the outcome?\n",
    "X.corrwith(y)"
   ]
  },
  {
   "cell_type": "markdown",
   "id": "3c6d8799",
   "metadata": {},
   "source": [
    "No variables are strongly correlated; check if maybe a new feature such as the number of people a user_id referred results in more adopted users."
   ]
  },
  {
   "cell_type": "code",
   "execution_count": 40,
   "id": "464754f9",
   "metadata": {},
   "outputs": [
    {
     "data": {
      "text/html": [
       "<div>\n",
       "<style scoped>\n",
       "    .dataframe tbody tr th:only-of-type {\n",
       "        vertical-align: middle;\n",
       "    }\n",
       "\n",
       "    .dataframe tbody tr th {\n",
       "        vertical-align: top;\n",
       "    }\n",
       "\n",
       "    .dataframe thead th {\n",
       "        text-align: right;\n",
       "    }\n",
       "</style>\n",
       "<table border=\"1\" class=\"dataframe\">\n",
       "  <thead>\n",
       "    <tr style=\"text-align: right;\">\n",
       "      <th></th>\n",
       "      <th>creation_time</th>\n",
       "      <th>opted_in_to_mailing_list</th>\n",
       "      <th>enabled_for_marketing_drip</th>\n",
       "      <th>org_id</th>\n",
       "      <th>adopted_user</th>\n",
       "      <th>GUEST_INVITE</th>\n",
       "      <th>ORG_INVITE</th>\n",
       "      <th>PERSONAL_PROJECTS</th>\n",
       "      <th>SIGNUP</th>\n",
       "      <th>SIGNUP_GOOGLE_AUTH</th>\n",
       "    </tr>\n",
       "    <tr>\n",
       "      <th>invited_by_user_id</th>\n",
       "      <th></th>\n",
       "      <th></th>\n",
       "      <th></th>\n",
       "      <th></th>\n",
       "      <th></th>\n",
       "      <th></th>\n",
       "      <th></th>\n",
       "      <th></th>\n",
       "      <th></th>\n",
       "      <th></th>\n",
       "    </tr>\n",
       "  </thead>\n",
       "  <tbody>\n",
       "    <tr>\n",
       "      <th>0.0</th>\n",
       "      <td>5583</td>\n",
       "      <td>5583</td>\n",
       "      <td>5583</td>\n",
       "      <td>5583</td>\n",
       "      <td>5583</td>\n",
       "      <td>5583</td>\n",
       "      <td>5583</td>\n",
       "      <td>5583</td>\n",
       "      <td>5583</td>\n",
       "      <td>5583</td>\n",
       "    </tr>\n",
       "    <tr>\n",
       "      <th>10741.0</th>\n",
       "      <td>13</td>\n",
       "      <td>13</td>\n",
       "      <td>13</td>\n",
       "      <td>13</td>\n",
       "      <td>13</td>\n",
       "      <td>13</td>\n",
       "      <td>13</td>\n",
       "      <td>13</td>\n",
       "      <td>13</td>\n",
       "      <td>13</td>\n",
       "    </tr>\n",
       "    <tr>\n",
       "      <th>2527.0</th>\n",
       "      <td>12</td>\n",
       "      <td>12</td>\n",
       "      <td>12</td>\n",
       "      <td>12</td>\n",
       "      <td>12</td>\n",
       "      <td>12</td>\n",
       "      <td>12</td>\n",
       "      <td>12</td>\n",
       "      <td>12</td>\n",
       "      <td>12</td>\n",
       "    </tr>\n",
       "    <tr>\n",
       "      <th>1525.0</th>\n",
       "      <td>11</td>\n",
       "      <td>11</td>\n",
       "      <td>11</td>\n",
       "      <td>11</td>\n",
       "      <td>11</td>\n",
       "      <td>11</td>\n",
       "      <td>11</td>\n",
       "      <td>11</td>\n",
       "      <td>11</td>\n",
       "      <td>11</td>\n",
       "    </tr>\n",
       "    <tr>\n",
       "      <th>11770.0</th>\n",
       "      <td>11</td>\n",
       "      <td>11</td>\n",
       "      <td>11</td>\n",
       "      <td>11</td>\n",
       "      <td>11</td>\n",
       "      <td>11</td>\n",
       "      <td>11</td>\n",
       "      <td>11</td>\n",
       "      <td>11</td>\n",
       "      <td>11</td>\n",
       "    </tr>\n",
       "  </tbody>\n",
       "</table>\n",
       "</div>"
      ],
      "text/plain": [
       "                    creation_time  opted_in_to_mailing_list  \\\n",
       "invited_by_user_id                                            \n",
       "0.0                          5583                      5583   \n",
       "10741.0                        13                        13   \n",
       "2527.0                         12                        12   \n",
       "1525.0                         11                        11   \n",
       "11770.0                        11                        11   \n",
       "\n",
       "                    enabled_for_marketing_drip  org_id  adopted_user  \\\n",
       "invited_by_user_id                                                     \n",
       "0.0                                       5583    5583          5583   \n",
       "10741.0                                     13      13            13   \n",
       "2527.0                                      12      12            12   \n",
       "1525.0                                      11      11            11   \n",
       "11770.0                                     11      11            11   \n",
       "\n",
       "                    GUEST_INVITE  ORG_INVITE  PERSONAL_PROJECTS  SIGNUP  \\\n",
       "invited_by_user_id                                                        \n",
       "0.0                         5583        5583               5583    5583   \n",
       "10741.0                       13          13                 13      13   \n",
       "2527.0                        12          12                 12      12   \n",
       "1525.0                        11          11                 11      11   \n",
       "11770.0                       11          11                 11      11   \n",
       "\n",
       "                    SIGNUP_GOOGLE_AUTH  \n",
       "invited_by_user_id                      \n",
       "0.0                               5583  \n",
       "10741.0                             13  \n",
       "2527.0                              12  \n",
       "1525.0                              11  \n",
       "11770.0                             11  "
      ]
     },
     "execution_count": 40,
     "metadata": {},
     "output_type": "execute_result"
    }
   ],
   "source": [
    "# Get number of invitation counts for each user ID\n",
    "invitation_counts = df.groupby('invited_by_user_id').count()\n",
    "invitation_counts = invitation_counts[invitation_counts['creation_time'] >= 1]\n",
    "invitation_counts.sort_values(by='adopted_user', ascending=False).head()"
   ]
  },
  {
   "cell_type": "code",
   "execution_count": 41,
   "id": "6c9c8215",
   "metadata": {},
   "outputs": [],
   "source": [
    "# Drop invited_by_user_id = 0 because that ID is used as a missing value\n",
    "invitation_counts.drop(0, axis=0, inplace=True)"
   ]
  },
  {
   "cell_type": "code",
   "execution_count": 42,
   "id": "e6426a8d",
   "metadata": {},
   "outputs": [
    {
     "data": {
      "text/html": [
       "<div>\n",
       "<style scoped>\n",
       "    .dataframe tbody tr th:only-of-type {\n",
       "        vertical-align: middle;\n",
       "    }\n",
       "\n",
       "    .dataframe tbody tr th {\n",
       "        vertical-align: top;\n",
       "    }\n",
       "\n",
       "    .dataframe thead th {\n",
       "        text-align: right;\n",
       "    }\n",
       "</style>\n",
       "<table border=\"1\" class=\"dataframe\">\n",
       "  <thead>\n",
       "    <tr style=\"text-align: right;\">\n",
       "      <th></th>\n",
       "      <th>opted_in_to_mailing_list</th>\n",
       "      <th>enabled_for_marketing_drip</th>\n",
       "      <th>org_id</th>\n",
       "      <th>adopted_user</th>\n",
       "      <th>GUEST_INVITE</th>\n",
       "      <th>ORG_INVITE</th>\n",
       "      <th>PERSONAL_PROJECTS</th>\n",
       "      <th>SIGNUP</th>\n",
       "      <th>SIGNUP_GOOGLE_AUTH</th>\n",
       "    </tr>\n",
       "    <tr>\n",
       "      <th>invited_by_user_id</th>\n",
       "      <th></th>\n",
       "      <th></th>\n",
       "      <th></th>\n",
       "      <th></th>\n",
       "      <th></th>\n",
       "      <th></th>\n",
       "      <th></th>\n",
       "      <th></th>\n",
       "      <th></th>\n",
       "    </tr>\n",
       "  </thead>\n",
       "  <tbody>\n",
       "    <tr>\n",
       "      <th>0.0</th>\n",
       "      <td>0.246283</td>\n",
       "      <td>0.148486</td>\n",
       "      <td>144.337274</td>\n",
       "      <td>0.12341</td>\n",
       "      <td>0.0</td>\n",
       "      <td>0.0</td>\n",
       "      <td>0.378112</td>\n",
       "      <td>0.373813</td>\n",
       "      <td>0.248075</td>\n",
       "    </tr>\n",
       "    <tr>\n",
       "      <th>3.0</th>\n",
       "      <td>0.000000</td>\n",
       "      <td>0.000000</td>\n",
       "      <td>94.000000</td>\n",
       "      <td>0.00000</td>\n",
       "      <td>0.0</td>\n",
       "      <td>1.0</td>\n",
       "      <td>0.000000</td>\n",
       "      <td>0.000000</td>\n",
       "      <td>0.000000</td>\n",
       "    </tr>\n",
       "    <tr>\n",
       "      <th>7.0</th>\n",
       "      <td>0.400000</td>\n",
       "      <td>0.400000</td>\n",
       "      <td>37.000000</td>\n",
       "      <td>0.00000</td>\n",
       "      <td>0.2</td>\n",
       "      <td>0.8</td>\n",
       "      <td>0.000000</td>\n",
       "      <td>0.000000</td>\n",
       "      <td>0.000000</td>\n",
       "    </tr>\n",
       "    <tr>\n",
       "      <th>10.0</th>\n",
       "      <td>0.000000</td>\n",
       "      <td>0.000000</td>\n",
       "      <td>318.000000</td>\n",
       "      <td>0.00000</td>\n",
       "      <td>1.0</td>\n",
       "      <td>0.0</td>\n",
       "      <td>0.000000</td>\n",
       "      <td>0.000000</td>\n",
       "      <td>0.000000</td>\n",
       "    </tr>\n",
       "    <tr>\n",
       "      <th>21.0</th>\n",
       "      <td>1.000000</td>\n",
       "      <td>0.000000</td>\n",
       "      <td>54.000000</td>\n",
       "      <td>0.00000</td>\n",
       "      <td>0.0</td>\n",
       "      <td>1.0</td>\n",
       "      <td>0.000000</td>\n",
       "      <td>0.000000</td>\n",
       "      <td>0.000000</td>\n",
       "    </tr>\n",
       "  </tbody>\n",
       "</table>\n",
       "</div>"
      ],
      "text/plain": [
       "                    opted_in_to_mailing_list  enabled_for_marketing_drip  \\\n",
       "invited_by_user_id                                                         \n",
       "0.0                                 0.246283                    0.148486   \n",
       "3.0                                 0.000000                    0.000000   \n",
       "7.0                                 0.400000                    0.400000   \n",
       "10.0                                0.000000                    0.000000   \n",
       "21.0                                1.000000                    0.000000   \n",
       "\n",
       "                        org_id  adopted_user  GUEST_INVITE  ORG_INVITE  \\\n",
       "invited_by_user_id                                                       \n",
       "0.0                 144.337274       0.12341           0.0         0.0   \n",
       "3.0                  94.000000       0.00000           0.0         1.0   \n",
       "7.0                  37.000000       0.00000           0.2         0.8   \n",
       "10.0                318.000000       0.00000           1.0         0.0   \n",
       "21.0                 54.000000       0.00000           0.0         1.0   \n",
       "\n",
       "                    PERSONAL_PROJECTS    SIGNUP  SIGNUP_GOOGLE_AUTH  \n",
       "invited_by_user_id                                                   \n",
       "0.0                          0.378112  0.373813            0.248075  \n",
       "3.0                          0.000000  0.000000            0.000000  \n",
       "7.0                          0.000000  0.000000            0.000000  \n",
       "10.0                         0.000000  0.000000            0.000000  \n",
       "21.0                         0.000000  0.000000            0.000000  "
      ]
     },
     "execution_count": 42,
     "metadata": {},
     "output_type": "execute_result"
    }
   ],
   "source": [
    "means = df.groupby('invited_by_user_id').mean()\n",
    "means.head()"
   ]
  },
  {
   "cell_type": "code",
   "execution_count": 43,
   "id": "1fec0a34",
   "metadata": {},
   "outputs": [],
   "source": [
    "influencers = pd.merge(means[['adopted_user']], invitation_counts[['creation_time']],  how='inner', left_index=True, right_index=True)\n",
    "influencers.columns = ['adopted_user', 'number_of_referrals']\n"
   ]
  },
  {
   "cell_type": "code",
   "execution_count": 45,
   "id": "494e7e1e",
   "metadata": {},
   "outputs": [
    {
     "data": {
      "text/plain": [
       "<AxesSubplot:xlabel='number_of_referrals', ylabel='adopted_user'>"
      ]
     },
     "execution_count": 45,
     "metadata": {},
     "output_type": "execute_result"
    },
    {
     "data": {
      "image/png": "[encoded data removed]",
      "text/plain": [
       "<Figure size 432x288 with 1 Axes>"
      ]
     },
     "metadata": {
      "needs_background": "light"
     },
     "output_type": "display_data"
    }
   ],
   "source": [
    "import seaborn as sns\n",
    "sns.barplot(x=influencers['number_of_referrals'], y=influencers['adopted_user'])"
   ]
  },
  {
   "cell_type": "markdown",
   "id": "f8e93964",
   "metadata": {},
   "source": [
    "Look at top influencers individually; consider \"top influencer\" >= 8 referrals."
   ]
  },
  {
   "cell_type": "code",
   "execution_count": 46,
   "id": "d644947b",
   "metadata": {},
   "outputs": [
    {
     "name": "stderr",
     "output_type": "stream",
     "text": [
      "C:\\Users\\bradp\\anaconda3\\envs\\Take_Home\\lib\\site-packages\\ipykernel_launcher.py:2: SettingWithCopyWarning: \n",
      "A value is trying to be set on a copy of a slice from a DataFrame\n",
      "\n",
      "See the caveats in the documentation: https://pandas.pydata.org/pandas-docs/stable/user_guide/indexing.html#returning-a-view-versus-a-copy\n",
      "  \n"
     ]
    }
   ],
   "source": [
    "top_influencers = influencers[influencers['number_of_referrals'] >= 8]\n",
    "top_influencers.sort_values(by='adopted_user', ascending=False, inplace=True)"
   ]
  },
  {
   "cell_type": "code",
   "execution_count": 47,
   "id": "d050f841",
   "metadata": {},
   "outputs": [
    {
     "data": {
      "text/plain": [
       "<AxesSubplot:xlabel='invited_by_user_id', ylabel='adopted_user'>"
      ]
     },
     "execution_count": 47,
     "metadata": {},
     "output_type": "execute_result"
    },
    {
     "data": {
      "image/png": "[encoded data removed]",
      "text/plain": [
       "<Figure size 1008x360 with 1 Axes>"
      ]
     },
     "metadata": {
      "needs_background": "light"
     },
     "output_type": "display_data"
    }
   ],
   "source": [
    "plt.figure(figsize=(14,5))\n",
    "plt.xticks(rotation=90)\n",
    "sns.barplot(x=top_influencers.index, y=top_influencers.adopted_user, order=list(top_influencers.index))"
   ]
  }
 ],
 "metadata": {
  "kernelspec": {
   "display_name": "Python 3",
   "language": "python",
   "name": "python3"
  },
  "language_info": {
   "codemirror_mode": {
    "name": "ipython",
    "version": 3
   },
   "file_extension": ".py",
   "mimetype": "text/x-python",
   "name": "python",
   "nbconvert_exporter": "python",
   "pygments_lexer": "ipython3",
   "version": "3.7.10"
  }
 },
 "nbformat": 4,
 "nbformat_minor": 5
}
