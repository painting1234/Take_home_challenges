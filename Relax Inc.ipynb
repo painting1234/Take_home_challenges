{
 "cells": [
  {
   "cell_type": "markdown",
   "id": "9dd17d49",
   "metadata": {},
   "source": [
    "## Summary"
   ]
  },
  {
   "cell_type": "markdown",
   "id": "56ee7f3d",
   "metadata": {},
   "source": [
    "I tested the prediction of user-adoption using a random forest classifier against the accuracy using a Naïve Bayes model that predicted user adoption in 100% of cases. The machine learning model only showed a very slight improvement with an accuracy of 0.747 on the test set versus a Naïve Bayes accuracy of 0.733. No variables appear to be strongly predictive, but being invited to join a personal workspace was slightly negatively correlated with becoming an adopted user.\n",
    "\n",
    "I processed the data to create a list of “adopted users” by looping through the usage summary table (\"takehome_user_engagement\") for each unique user it contained using the Pandas “rolling” method and finding the maximum number of visits that occurred for them in a 7-day window. Three or greater visits received a “1” in a new “adopted_status” column. This was then merged with the rest of the user data.\n",
    "\n",
    "A significant training variable that I dropped from the from the takehome_users.csv file was last_session_creation_time, which is the timestamp of the user’s last login. An active user would have a higher frequency of logins and be more likely to have a recent last_session time, but the outcome variable is defined solely by the frequency of logins in a 7-day window. So, this would be a form of the outcome partially leaking into the training data.\n",
    "\n",
    "A better approach may be to use network analysis to see if there are clusters of connected people via the “invited_by_user_id” variable who have become adopted or not-adopted.\n"
   ]
  },
  {
   "cell_type": "code",
   "execution_count": 1,
   "id": "e3bf8ac1",
   "metadata": {},
   "outputs": [],
   "source": [
    "import numpy as np\n",
    "import pandas as pd\n",
    "\n",
    "import datetime\n",
    "from tqdm import tqdm\n",
    "\n",
    "import matplotlib.pyplot as plt"
   ]
  },
  {
   "cell_type": "markdown",
   "id": "cb6f361f",
   "metadata": {},
   "source": [
    "## Data Cleaning"
   ]
  },
  {
   "cell_type": "code",
   "execution_count": 2,
   "id": "dd174b0d",
   "metadata": {},
   "outputs": [
    {
     "data": {
      "text/html": [
       "<div>\n",
       "<style scoped>\n",
       "    .dataframe tbody tr th:only-of-type {\n",
       "        vertical-align: middle;\n",
       "    }\n",
       "\n",
       "    .dataframe tbody tr th {\n",
       "        vertical-align: top;\n",
       "    }\n",
       "\n",
       "    .dataframe thead th {\n",
       "        text-align: right;\n",
       "    }\n",
       "</style>\n",
       "<table border=\"1\" class=\"dataframe\">\n",
       "  <thead>\n",
       "    <tr style=\"text-align: right;\">\n",
       "      <th></th>\n",
       "      <th>object_id</th>\n",
       "      <th>creation_time</th>\n",
       "      <th>name</th>\n",
       "      <th>email</th>\n",
       "      <th>creation_source</th>\n",
       "      <th>last_session_creation_time</th>\n",
       "      <th>opted_in_to_mailing_list</th>\n",
       "      <th>enabled_for_marketing_drip</th>\n",
       "      <th>org_id</th>\n",
       "      <th>invited_by_user_id</th>\n",
       "    </tr>\n",
       "  </thead>\n",
       "  <tbody>\n",
       "    <tr>\n",
       "      <th>0</th>\n",
       "      <td>1</td>\n",
       "      <td>2014-04-22 03:53:30</td>\n",
       "      <td>Clausen August</td>\n",
       "      <td>AugustCClausen@yahoo.com</td>\n",
       "      <td>GUEST_INVITE</td>\n",
       "      <td>1.398139e+09</td>\n",
       "      <td>1</td>\n",
       "      <td>0</td>\n",
       "      <td>11</td>\n",
       "      <td>10803.0</td>\n",
       "    </tr>\n",
       "    <tr>\n",
       "      <th>1</th>\n",
       "      <td>2</td>\n",
       "      <td>2013-11-15 03:45:04</td>\n",
       "      <td>Poole Matthew</td>\n",
       "      <td>MatthewPoole@gustr.com</td>\n",
       "      <td>ORG_INVITE</td>\n",
       "      <td>1.396238e+09</td>\n",
       "      <td>0</td>\n",
       "      <td>0</td>\n",
       "      <td>1</td>\n",
       "      <td>316.0</td>\n",
       "    </tr>\n",
       "    <tr>\n",
       "      <th>2</th>\n",
       "      <td>3</td>\n",
       "      <td>2013-03-19 23:14:52</td>\n",
       "      <td>Bottrill Mitchell</td>\n",
       "      <td>MitchellBottrill@gustr.com</td>\n",
       "      <td>ORG_INVITE</td>\n",
       "      <td>1.363735e+09</td>\n",
       "      <td>0</td>\n",
       "      <td>0</td>\n",
       "      <td>94</td>\n",
       "      <td>1525.0</td>\n",
       "    </tr>\n",
       "    <tr>\n",
       "      <th>3</th>\n",
       "      <td>4</td>\n",
       "      <td>2013-05-21 08:09:28</td>\n",
       "      <td>Clausen Nicklas</td>\n",
       "      <td>NicklasSClausen@yahoo.com</td>\n",
       "      <td>GUEST_INVITE</td>\n",
       "      <td>1.369210e+09</td>\n",
       "      <td>0</td>\n",
       "      <td>0</td>\n",
       "      <td>1</td>\n",
       "      <td>5151.0</td>\n",
       "    </tr>\n",
       "    <tr>\n",
       "      <th>4</th>\n",
       "      <td>5</td>\n",
       "      <td>2013-01-17 10:14:20</td>\n",
       "      <td>Raw Grace</td>\n",
       "      <td>GraceRaw@yahoo.com</td>\n",
       "      <td>GUEST_INVITE</td>\n",
       "      <td>1.358850e+09</td>\n",
       "      <td>0</td>\n",
       "      <td>0</td>\n",
       "      <td>193</td>\n",
       "      <td>5240.0</td>\n",
       "    </tr>\n",
       "  </tbody>\n",
       "</table>\n",
       "</div>"
      ],
      "text/plain": [
       "   object_id        creation_time               name  \\\n",
       "0          1  2014-04-22 03:53:30     Clausen August   \n",
       "1          2  2013-11-15 03:45:04      Poole Matthew   \n",
       "2          3  2013-03-19 23:14:52  Bottrill Mitchell   \n",
       "3          4  2013-05-21 08:09:28    Clausen Nicklas   \n",
       "4          5  2013-01-17 10:14:20          Raw Grace   \n",
       "\n",
       "                        email creation_source  last_session_creation_time  \\\n",
       "0    AugustCClausen@yahoo.com    GUEST_INVITE                1.398139e+09   \n",
       "1      MatthewPoole@gustr.com      ORG_INVITE                1.396238e+09   \n",
       "2  MitchellBottrill@gustr.com      ORG_INVITE                1.363735e+09   \n",
       "3   NicklasSClausen@yahoo.com    GUEST_INVITE                1.369210e+09   \n",
       "4          GraceRaw@yahoo.com    GUEST_INVITE                1.358850e+09   \n",
       "\n",
       "   opted_in_to_mailing_list  enabled_for_marketing_drip  org_id  \\\n",
       "0                         1                           0      11   \n",
       "1                         0                           0       1   \n",
       "2                         0                           0      94   \n",
       "3                         0                           0       1   \n",
       "4                         0                           0     193   \n",
       "\n",
       "   invited_by_user_id  \n",
       "0             10803.0  \n",
       "1               316.0  \n",
       "2              1525.0  \n",
       "3              5151.0  \n",
       "4              5240.0  "
      ]
     },
     "execution_count": 2,
     "metadata": {},
     "output_type": "execute_result"
    }
   ],
   "source": [
    "users = pd.read_csv('takehome_users.csv')\n",
    "users.head()"
   ]
  },
  {
   "cell_type": "code",
   "execution_count": 3,
   "id": "1b2f3b64",
   "metadata": {},
   "outputs": [
    {
     "data": {
      "text/html": [
       "<div>\n",
       "<style scoped>\n",
       "    .dataframe tbody tr th:only-of-type {\n",
       "        vertical-align: middle;\n",
       "    }\n",
       "\n",
       "    .dataframe tbody tr th {\n",
       "        vertical-align: top;\n",
       "    }\n",
       "\n",
       "    .dataframe thead th {\n",
       "        text-align: right;\n",
       "    }\n",
       "</style>\n",
       "<table border=\"1\" class=\"dataframe\">\n",
       "  <thead>\n",
       "    <tr style=\"text-align: right;\">\n",
       "      <th></th>\n",
       "      <th>time_stamp</th>\n",
       "      <th>user_id</th>\n",
       "      <th>visited</th>\n",
       "    </tr>\n",
       "  </thead>\n",
       "  <tbody>\n",
       "    <tr>\n",
       "      <th>0</th>\n",
       "      <td>2014-04-22 03:53:30</td>\n",
       "      <td>1</td>\n",
       "      <td>1</td>\n",
       "    </tr>\n",
       "    <tr>\n",
       "      <th>1</th>\n",
       "      <td>2013-11-15 03:45:04</td>\n",
       "      <td>2</td>\n",
       "      <td>1</td>\n",
       "    </tr>\n",
       "    <tr>\n",
       "      <th>2</th>\n",
       "      <td>2013-11-29 03:45:04</td>\n",
       "      <td>2</td>\n",
       "      <td>1</td>\n",
       "    </tr>\n",
       "    <tr>\n",
       "      <th>3</th>\n",
       "      <td>2013-12-09 03:45:04</td>\n",
       "      <td>2</td>\n",
       "      <td>1</td>\n",
       "    </tr>\n",
       "    <tr>\n",
       "      <th>4</th>\n",
       "      <td>2013-12-25 03:45:04</td>\n",
       "      <td>2</td>\n",
       "      <td>1</td>\n",
       "    </tr>\n",
       "  </tbody>\n",
       "</table>\n",
       "</div>"
      ],
      "text/plain": [
       "            time_stamp  user_id  visited\n",
       "0  2014-04-22 03:53:30        1        1\n",
       "1  2013-11-15 03:45:04        2        1\n",
       "2  2013-11-29 03:45:04        2        1\n",
       "3  2013-12-09 03:45:04        2        1\n",
       "4  2013-12-25 03:45:04        2        1"
      ]
     },
     "execution_count": 3,
     "metadata": {},
     "output_type": "execute_result"
    }
   ],
   "source": [
    "visits = pd.read_csv('takehome_user_engagement.csv')\n",
    "visits.head()"
   ]
  },
  {
   "cell_type": "code",
   "execution_count": 39,
   "id": "b92e8894",
   "metadata": {},
   "outputs": [
    {
     "name": "stdout",
     "output_type": "stream",
     "text": [
      "207917\n",
      "207220\n"
     ]
    }
   ],
   "source": [
    "print(len(visits))\n",
    "print(len(visits['time_stamp'].unique()))"
   ]
  },
  {
   "cell_type": "markdown",
   "id": "e10e9b5a",
   "metadata": {},
   "source": [
    "There are some identical timestamps so they need to be made unique to work as an index. Add very small random number to datetime and then sort. Index needs to be datetime for pandas rolling function."
   ]
  },
  {
   "cell_type": "code",
   "execution_count": 6,
   "id": "70a2bef5",
   "metadata": {},
   "outputs": [],
   "source": [
    "# Convert to datetime\n",
    "visits['time_stamp'] = pd.to_datetime(visits['time_stamp'])\n",
    "\n",
    "# Make datetimes unique\n",
    "visits['timedelta'] = np.random.uniform(0,.01)\n",
    "visits['timedelta'] = pd.to_timedelta(visits['timedelta'])\n",
    "visits['adj_time'] = visits['time_stamp'] + visits['timedelta']"
   ]
  },
  {
   "cell_type": "code",
   "execution_count": 7,
   "id": "420761b0",
   "metadata": {},
   "outputs": [],
   "source": [
    "# Sort in ascending time\n",
    "visits.sort_values('adj_time', ascending=True, inplace=True)"
   ]
  },
  {
   "cell_type": "code",
   "execution_count": 8,
   "id": "0c506f65",
   "metadata": {},
   "outputs": [],
   "source": [
    "# Reset the index using the unique timestamps\n",
    "visits.set_index('adj_time', inplace=True)"
   ]
  },
  {
   "cell_type": "code",
   "execution_count": 9,
   "id": "8578daa8",
   "metadata": {},
   "outputs": [
    {
     "data": {
      "text/html": [
       "<div>\n",
       "<style scoped>\n",
       "    .dataframe tbody tr th:only-of-type {\n",
       "        vertical-align: middle;\n",
       "    }\n",
       "\n",
       "    .dataframe tbody tr th {\n",
       "        vertical-align: top;\n",
       "    }\n",
       "\n",
       "    .dataframe thead th {\n",
       "        text-align: right;\n",
       "    }\n",
       "</style>\n",
       "<table border=\"1\" class=\"dataframe\">\n",
       "  <thead>\n",
       "    <tr style=\"text-align: right;\">\n",
       "      <th></th>\n",
       "      <th>time_stamp</th>\n",
       "      <th>user_id</th>\n",
       "      <th>visited</th>\n",
       "      <th>timedelta</th>\n",
       "    </tr>\n",
       "    <tr>\n",
       "      <th>adj_time</th>\n",
       "      <th></th>\n",
       "      <th></th>\n",
       "      <th></th>\n",
       "      <th></th>\n",
       "    </tr>\n",
       "  </thead>\n",
       "  <tbody>\n",
       "    <tr>\n",
       "      <th>2012-05-31 08:20:06</th>\n",
       "      <td>2012-05-31 08:20:06</td>\n",
       "      <td>10012</td>\n",
       "      <td>1</td>\n",
       "      <td>0 days</td>\n",
       "    </tr>\n",
       "    <tr>\n",
       "      <th>2012-05-31 15:47:36</th>\n",
       "      <td>2012-05-31 15:47:36</td>\n",
       "      <td>3428</td>\n",
       "      <td>1</td>\n",
       "      <td>0 days</td>\n",
       "    </tr>\n",
       "    <tr>\n",
       "      <th>2012-05-31 17:19:37</th>\n",
       "      <td>2012-05-31 17:19:37</td>\n",
       "      <td>9899</td>\n",
       "      <td>1</td>\n",
       "      <td>0 days</td>\n",
       "    </tr>\n",
       "    <tr>\n",
       "      <th>2012-05-31 21:58:33</th>\n",
       "      <td>2012-05-31 21:58:33</td>\n",
       "      <td>1693</td>\n",
       "      <td>1</td>\n",
       "      <td>0 days</td>\n",
       "    </tr>\n",
       "    <tr>\n",
       "      <th>2012-06-01 00:17:30</th>\n",
       "      <td>2012-06-01 00:17:30</td>\n",
       "      <td>6102</td>\n",
       "      <td>1</td>\n",
       "      <td>0 days</td>\n",
       "    </tr>\n",
       "  </tbody>\n",
       "</table>\n",
       "</div>"
      ],
      "text/plain": [
       "                             time_stamp  user_id  visited timedelta\n",
       "adj_time                                                           \n",
       "2012-05-31 08:20:06 2012-05-31 08:20:06    10012        1    0 days\n",
       "2012-05-31 15:47:36 2012-05-31 15:47:36     3428        1    0 days\n",
       "2012-05-31 17:19:37 2012-05-31 17:19:37     9899        1    0 days\n",
       "2012-05-31 21:58:33 2012-05-31 21:58:33     1693        1    0 days\n",
       "2012-06-01 00:17:30 2012-06-01 00:17:30     6102        1    0 days"
      ]
     },
     "execution_count": 9,
     "metadata": {},
     "output_type": "execute_result"
    }
   ],
   "source": [
    "visits.head()"
   ]
  },
  {
   "cell_type": "markdown",
   "id": "04424e96",
   "metadata": {},
   "source": [
    "Check to make sure each row in the dataframe is a visit on a unique day for a unique user"
   ]
  },
  {
   "cell_type": "code",
   "execution_count": 12,
   "id": "9f272c1f",
   "metadata": {},
   "outputs": [
    {
     "name": "stdout",
     "output_type": "stream",
     "text": [
      "207917\n",
      "207917\n"
     ]
    }
   ],
   "source": [
    "print(len(visits))\n",
    "\n",
    "visits['visit_date'] = visits['time_stamp'].dt.date\n",
    "print(len(visits.groupby(['user_id','visit_date']).count()))"
   ]
  },
  {
   "cell_type": "markdown",
   "id": "de637614",
   "metadata": {},
   "source": [
    "Determine which users logged in during 3 unique days within a 7 day period:"
   ]
  },
  {
   "cell_type": "code",
   "execution_count": 14,
   "id": "0d75f0ae",
   "metadata": {},
   "outputs": [],
   "source": [
    "# Start empty lists to append values to as the pandas \"rolling\" function assesses 7-day periods \n",
    "persons = []\n",
    "max_rolling_visits = []"
   ]
  },
  {
   "cell_type": "code",
   "execution_count": 15,
   "id": "696d5166",
   "metadata": {},
   "outputs": [
    {
     "name": "stderr",
     "output_type": "stream",
     "text": [
      "100%|██████████| 8823/8823 [00:12<00:00, 704.77it/s]\n"
     ]
    }
   ],
   "source": [
    "for user in tqdm(visits['user_id'].unique()):\n",
    "    persons.append(user)\n",
    "    max_rolling_visits.append(visits[visits['user_id'] == user].rolling('7d').sum().max()[0])"
   ]
  },
  {
   "cell_type": "code",
   "execution_count": 16,
   "id": "175d49a8",
   "metadata": {},
   "outputs": [
    {
     "data": {
      "text/html": [
       "<div>\n",
       "<style scoped>\n",
       "    .dataframe tbody tr th:only-of-type {\n",
       "        vertical-align: middle;\n",
       "    }\n",
       "\n",
       "    .dataframe tbody tr th {\n",
       "        vertical-align: top;\n",
       "    }\n",
       "\n",
       "    .dataframe thead th {\n",
       "        text-align: right;\n",
       "    }\n",
       "</style>\n",
       "<table border=\"1\" class=\"dataframe\">\n",
       "  <thead>\n",
       "    <tr style=\"text-align: right;\">\n",
       "      <th></th>\n",
       "      <th>person</th>\n",
       "      <th>window_max</th>\n",
       "    </tr>\n",
       "  </thead>\n",
       "  <tbody>\n",
       "    <tr>\n",
       "      <th>8818</th>\n",
       "      <td>8499</td>\n",
       "      <td>8499.0</td>\n",
       "    </tr>\n",
       "    <tr>\n",
       "      <th>8819</th>\n",
       "      <td>9879</td>\n",
       "      <td>9879.0</td>\n",
       "    </tr>\n",
       "    <tr>\n",
       "      <th>8820</th>\n",
       "      <td>4641</td>\n",
       "      <td>4641.0</td>\n",
       "    </tr>\n",
       "    <tr>\n",
       "      <th>8821</th>\n",
       "      <td>6299</td>\n",
       "      <td>6299.0</td>\n",
       "    </tr>\n",
       "    <tr>\n",
       "      <th>8822</th>\n",
       "      <td>4051</td>\n",
       "      <td>4051.0</td>\n",
       "    </tr>\n",
       "  </tbody>\n",
       "</table>\n",
       "</div>"
      ],
      "text/plain": [
       "      person  window_max\n",
       "8818    8499      8499.0\n",
       "8819    9879      9879.0\n",
       "8820    4641      4641.0\n",
       "8821    6299      6299.0\n",
       "8822    4051      4051.0"
      ]
     },
     "execution_count": 16,
     "metadata": {},
     "output_type": "execute_result"
    }
   ],
   "source": [
    "adopted_status = pd.DataFrame({'person': persons, 'window_max': max_rolling_visits})\n",
    "adopted_status.tail()"
   ]
  },
  {
   "cell_type": "code",
   "execution_count": 17,
   "id": "1679a869",
   "metadata": {},
   "outputs": [],
   "source": [
    "adopted_status['adopted_user'] = (adopted_status['window_max'] >= 3).astype(int)"
   ]
  },
  {
   "cell_type": "code",
   "execution_count": 18,
   "id": "05b83338",
   "metadata": {},
   "outputs": [],
   "source": [
    "# Merge the adopted user status into the main dataframe\n",
    "\n",
    "df = pd.merge(users, adopted_status[['person','adopted_user']], how='left', left_on='object_id', right_on='person')\n",
    "df.drop('person', axis=1, inplace=True)"
   ]
  },
  {
   "cell_type": "code",
   "execution_count": 19,
   "id": "63bef7f1",
   "metadata": {},
   "outputs": [
    {
     "name": "stdout",
     "output_type": "stream",
     "text": [
      "8823\n",
      "12000\n"
     ]
    }
   ],
   "source": [
    "# Check if all of the users from the users data frame show up in the visits dataframe\n",
    "print(len(visits['user_id'].unique()))\n",
    "print(len(users['object_id'].unique()))"
   ]
  },
  {
   "cell_type": "markdown",
   "id": "bf422758",
   "metadata": {},
   "source": [
    "There are more user IDs in the takehome_users dataset than there are in the visits dataset. This most likely means that these users did not login during the timeframe of data collection and they should not be considered adopted users. Zero fill missing values."
   ]
  },
  {
   "cell_type": "code",
   "execution_count": 20,
   "id": "0cb67866",
   "metadata": {},
   "outputs": [
    {
     "data": {
      "text/plain": [
       "object_id                        0\n",
       "creation_time                    0\n",
       "name                             0\n",
       "email                            0\n",
       "creation_source                  0\n",
       "last_session_creation_time    3177\n",
       "opted_in_to_mailing_list         0\n",
       "enabled_for_marketing_drip       0\n",
       "org_id                           0\n",
       "invited_by_user_id            5583\n",
       "adopted_user                  3177\n",
       "dtype: int64"
      ]
     },
     "execution_count": 20,
     "metadata": {},
     "output_type": "execute_result"
    }
   ],
   "source": [
    "df.isna().sum()"
   ]
  },
  {
   "cell_type": "code",
   "execution_count": 21,
   "id": "165aed2a",
   "metadata": {},
   "outputs": [],
   "source": [
    "df['adopted_user'].fillna(0, inplace=True)"
   ]
  },
  {
   "cell_type": "markdown",
   "id": "35f47da8",
   "metadata": {},
   "source": [
    "## Pre-Processing"
   ]
  },
  {
   "cell_type": "code",
   "execution_count": 22,
   "id": "3db56e7f",
   "metadata": {},
   "outputs": [
    {
     "data": {
      "text/plain": [
       "object_id                       int64\n",
       "creation_time                  object\n",
       "name                           object\n",
       "email                          object\n",
       "creation_source                object\n",
       "last_session_creation_time    float64\n",
       "opted_in_to_mailing_list        int64\n",
       "enabled_for_marketing_drip      int64\n",
       "org_id                          int64\n",
       "invited_by_user_id            float64\n",
       "adopted_user                  float64\n",
       "dtype: object"
      ]
     },
     "execution_count": 22,
     "metadata": {},
     "output_type": "execute_result"
    }
   ],
   "source": [
    "df.dtypes"
   ]
  },
  {
   "cell_type": "code",
   "execution_count": 23,
   "id": "21557ae0",
   "metadata": {},
   "outputs": [],
   "source": [
    "# Drop user_id, name, and email since they aren't expected to be predictive and would have many dummy variables\n",
    "df.drop(['object_id', 'name', 'email'], axis=1, inplace=True)"
   ]
  },
  {
   "cell_type": "markdown",
   "id": "768582ab",
   "metadata": {},
   "source": [
    "- Drop last_session_creation_time; data on the users login patterns are what determine whether they are adopted user, so keeping this in would blur the line between input and target variables. \n",
    "- I am keeping creation_time because early users might be more excited about the product and more likely to become adopted users."
   ]
  },
  {
   "cell_type": "code",
   "execution_count": 24,
   "id": "7f38b787",
   "metadata": {},
   "outputs": [],
   "source": [
    "# Drop datetime data described above\n",
    "df.drop(['last_session_creation_time'], axis=1, inplace=True)"
   ]
  },
  {
   "cell_type": "code",
   "execution_count": 25,
   "id": "b4524366",
   "metadata": {},
   "outputs": [],
   "source": [
    "# Create dummy variable for 'creation_source'\n",
    "one_hot = pd.get_dummies(df['creation_source'])\n",
    "df.drop('creation_source', axis=1, inplace=True)\n",
    "df = df.join(one_hot)"
   ]
  },
  {
   "cell_type": "code",
   "execution_count": 26,
   "id": "f0dff961",
   "metadata": {},
   "outputs": [],
   "source": [
    "# Zero-fill NaN values in \"invited_by_user_id\" column\n",
    "df['invited_by_user_id'].fillna(0, inplace=True)"
   ]
  },
  {
   "cell_type": "code",
   "execution_count": 27,
   "id": "91ac27a7",
   "metadata": {},
   "outputs": [
    {
     "data": {
      "text/html": [
       "<div>\n",
       "<style scoped>\n",
       "    .dataframe tbody tr th:only-of-type {\n",
       "        vertical-align: middle;\n",
       "    }\n",
       "\n",
       "    .dataframe tbody tr th {\n",
       "        vertical-align: top;\n",
       "    }\n",
       "\n",
       "    .dataframe thead th {\n",
       "        text-align: right;\n",
       "    }\n",
       "</style>\n",
       "<table border=\"1\" class=\"dataframe\">\n",
       "  <thead>\n",
       "    <tr style=\"text-align: right;\">\n",
       "      <th></th>\n",
       "      <th>creation_time</th>\n",
       "      <th>opted_in_to_mailing_list</th>\n",
       "      <th>enabled_for_marketing_drip</th>\n",
       "      <th>org_id</th>\n",
       "      <th>invited_by_user_id</th>\n",
       "      <th>adopted_user</th>\n",
       "      <th>GUEST_INVITE</th>\n",
       "      <th>ORG_INVITE</th>\n",
       "      <th>PERSONAL_PROJECTS</th>\n",
       "      <th>SIGNUP</th>\n",
       "      <th>SIGNUP_GOOGLE_AUTH</th>\n",
       "    </tr>\n",
       "  </thead>\n",
       "  <tbody>\n",
       "    <tr>\n",
       "      <th>0</th>\n",
       "      <td>2014-04-22 03:53:30</td>\n",
       "      <td>1</td>\n",
       "      <td>0</td>\n",
       "      <td>11</td>\n",
       "      <td>10803.0</td>\n",
       "      <td>0.0</td>\n",
       "      <td>1</td>\n",
       "      <td>0</td>\n",
       "      <td>0</td>\n",
       "      <td>0</td>\n",
       "      <td>0</td>\n",
       "    </tr>\n",
       "    <tr>\n",
       "      <th>1</th>\n",
       "      <td>2013-11-15 03:45:04</td>\n",
       "      <td>0</td>\n",
       "      <td>0</td>\n",
       "      <td>1</td>\n",
       "      <td>316.0</td>\n",
       "      <td>1.0</td>\n",
       "      <td>0</td>\n",
       "      <td>1</td>\n",
       "      <td>0</td>\n",
       "      <td>0</td>\n",
       "      <td>0</td>\n",
       "    </tr>\n",
       "    <tr>\n",
       "      <th>2</th>\n",
       "      <td>2013-03-19 23:14:52</td>\n",
       "      <td>0</td>\n",
       "      <td>0</td>\n",
       "      <td>94</td>\n",
       "      <td>1525.0</td>\n",
       "      <td>1.0</td>\n",
       "      <td>0</td>\n",
       "      <td>1</td>\n",
       "      <td>0</td>\n",
       "      <td>0</td>\n",
       "      <td>0</td>\n",
       "    </tr>\n",
       "    <tr>\n",
       "      <th>3</th>\n",
       "      <td>2013-05-21 08:09:28</td>\n",
       "      <td>0</td>\n",
       "      <td>0</td>\n",
       "      <td>1</td>\n",
       "      <td>5151.0</td>\n",
       "      <td>1.0</td>\n",
       "      <td>1</td>\n",
       "      <td>0</td>\n",
       "      <td>0</td>\n",
       "      <td>0</td>\n",
       "      <td>0</td>\n",
       "    </tr>\n",
       "    <tr>\n",
       "      <th>4</th>\n",
       "      <td>2013-01-17 10:14:20</td>\n",
       "      <td>0</td>\n",
       "      <td>0</td>\n",
       "      <td>193</td>\n",
       "      <td>5240.0</td>\n",
       "      <td>1.0</td>\n",
       "      <td>1</td>\n",
       "      <td>0</td>\n",
       "      <td>0</td>\n",
       "      <td>0</td>\n",
       "      <td>0</td>\n",
       "    </tr>\n",
       "  </tbody>\n",
       "</table>\n",
       "</div>"
      ],
      "text/plain": [
       "         creation_time  opted_in_to_mailing_list  enabled_for_marketing_drip  \\\n",
       "0  2014-04-22 03:53:30                         1                           0   \n",
       "1  2013-11-15 03:45:04                         0                           0   \n",
       "2  2013-03-19 23:14:52                         0                           0   \n",
       "3  2013-05-21 08:09:28                         0                           0   \n",
       "4  2013-01-17 10:14:20                         0                           0   \n",
       "\n",
       "   org_id  invited_by_user_id  adopted_user  GUEST_INVITE  ORG_INVITE  \\\n",
       "0      11             10803.0           0.0             1           0   \n",
       "1       1               316.0           1.0             0           1   \n",
       "2      94              1525.0           1.0             0           1   \n",
       "3       1              5151.0           1.0             1           0   \n",
       "4     193              5240.0           1.0             1           0   \n",
       "\n",
       "   PERSONAL_PROJECTS  SIGNUP  SIGNUP_GOOGLE_AUTH  \n",
       "0                  0       0                   0  \n",
       "1                  0       0                   0  \n",
       "2                  0       0                   0  \n",
       "3                  0       0                   0  \n",
       "4                  0       0                   0  "
      ]
     },
     "execution_count": 27,
     "metadata": {},
     "output_type": "execute_result"
    }
   ],
   "source": [
    "df.head()"
   ]
  },
  {
   "cell_type": "markdown",
   "id": "05860b00",
   "metadata": {},
   "source": [
    "## Modeling"
   ]
  },
  {
   "cell_type": "code",
   "execution_count": 28,
   "id": "cec60886",
   "metadata": {},
   "outputs": [],
   "source": [
    "X = df.drop('adopted_user', axis=1)\n",
    "y = df['adopted_user']"
   ]
  },
  {
   "cell_type": "code",
   "execution_count": 29,
   "id": "24cfca56",
   "metadata": {},
   "outputs": [
    {
     "data": {
      "text/plain": [
       "creation_time                  object\n",
       "opted_in_to_mailing_list        int64\n",
       "enabled_for_marketing_drip      int64\n",
       "org_id                          int64\n",
       "invited_by_user_id            float64\n",
       "adopted_user                  float64\n",
       "GUEST_INVITE                    uint8\n",
       "ORG_INVITE                      uint8\n",
       "PERSONAL_PROJECTS               uint8\n",
       "SIGNUP                          uint8\n",
       "SIGNUP_GOOGLE_AUTH              uint8\n",
       "dtype: object"
      ]
     },
     "execution_count": 29,
     "metadata": {},
     "output_type": "execute_result"
    }
   ],
   "source": [
    "df.dtypes"
   ]
  },
  {
   "cell_type": "code",
   "execution_count": 30,
   "id": "24fd9319",
   "metadata": {},
   "outputs": [],
   "source": [
    "# Sklearn does not accept datetime formats; convert creation time back into ordinal\n",
    "X['creation_time'] = pd.to_datetime(df['creation_time'])\n",
    "X['creation_time'] = X['creation_time'].map(datetime.datetime.toordinal)"
   ]
  },
  {
   "cell_type": "code",
   "execution_count": 31,
   "id": "2ecb8cf0",
   "metadata": {},
   "outputs": [],
   "source": [
    "from sklearn.model_selection import train_test_split\n",
    "X_train, X_test, y_train, y_test = train_test_split(X, y, test_size=0.3, random_state = 41)"
   ]
  },
  {
   "cell_type": "code",
   "execution_count": 32,
   "id": "5caac633",
   "metadata": {},
   "outputs": [
    {
     "data": {
      "text/plain": [
       "0.7466666666666667"
      ]
     },
     "execution_count": 32,
     "metadata": {},
     "output_type": "execute_result"
    }
   ],
   "source": [
    "# Import model\n",
    "from sklearn.ensemble import RandomForestClassifier\n",
    "\n",
    "# Instantiate model with 100 decision trees\n",
    "rf = RandomForestClassifier(n_estimators = 100, random_state = 42)\n",
    "\n",
    "# Train the model on training data\n",
    "rf.fit(X_train, y_train);\n",
    "\n",
    "y_pred = rf.predict(X_test)\n",
    "\n",
    "rf.score(X_test, y_test)"
   ]
  },
  {
   "cell_type": "code",
   "execution_count": 33,
   "id": "c5bf6625",
   "metadata": {},
   "outputs": [
    {
     "data": {
      "text/plain": [
       "<Figure size 432x288 with 0 Axes>"
      ]
     },
     "metadata": {},
     "output_type": "display_data"
    },
    {
     "data": {
      "image/png": "[encoded data removed]",
      "text/plain": [
       "<Figure size 432x288 with 2 Axes>"
      ]
     },
     "metadata": {
      "needs_background": "light"
     },
     "output_type": "display_data"
    }
   ],
   "source": [
    "from sklearn.metrics import confusion_matrix, plot_confusion_matrix\n",
    "\n",
    "model_cm = confusion_matrix(y_true=y_pred, y_pred=y_pred)\n",
    "\n",
    "plt.figure()\n",
    "plot_confusion_matrix(rf, X_test, y_test)\n",
    "plt.show()"
   ]
  },
  {
   "cell_type": "code",
   "execution_count": 41,
   "id": "74471357",
   "metadata": {},
   "outputs": [
    {
     "data": {
      "text/plain": [
       "0.7466666666666667"
      ]
     },
     "execution_count": 41,
     "metadata": {},
     "output_type": "execute_result"
    }
   ],
   "source": [
    "# Check accuracy\n",
    "(2367+321)/(2367+272+321+640)"
   ]
  },
  {
   "cell_type": "code",
   "execution_count": 43,
   "id": "d86b8574",
   "metadata": {},
   "outputs": [
    {
     "data": {
      "text/plain": [
       "0.7330555555555556"
      ]
     },
     "execution_count": 43,
     "metadata": {},
     "output_type": "execute_result"
    }
   ],
   "source": [
    "# Naive bayes for test set\n",
    "(2367+272)/(2367+272+321+640)"
   ]
  },
  {
   "cell_type": "markdown",
   "id": "7cfc1452",
   "metadata": {},
   "source": [
    "Check naive bayes accuracy on whole dataset."
   ]
  },
  {
   "cell_type": "code",
   "execution_count": 34,
   "id": "ecfb59cf",
   "metadata": {},
   "outputs": [],
   "source": [
    "total_adopted = len(df[df['adopted_user']==1])"
   ]
  },
  {
   "cell_type": "code",
   "execution_count": 35,
   "id": "a972d8f7",
   "metadata": {},
   "outputs": [],
   "source": [
    "total_users = len(df)"
   ]
  },
  {
   "cell_type": "code",
   "execution_count": 36,
   "id": "cda6fd50",
   "metadata": {},
   "outputs": [
    {
     "data": {
      "text/plain": [
       "0.7351666666666666"
      ]
     },
     "execution_count": 36,
     "metadata": {},
     "output_type": "execute_result"
    }
   ],
   "source": [
    "total_adopted/total_users"
   ]
  },
  {
   "cell_type": "code",
   "execution_count": 37,
   "id": "aa8bedb3",
   "metadata": {},
   "outputs": [
    {
     "data": {
      "text/plain": [
       "creation_time                 0.015899\n",
       "opted_in_to_mailing_list      0.010436\n",
       "enabled_for_marketing_drip    0.012495\n",
       "org_id                        0.009436\n",
       "invited_by_user_id            0.020571\n",
       "GUEST_INVITE                 -0.001555\n",
       "ORG_INVITE                    0.023926\n",
       "PERSONAL_PROJECTS            -0.390834\n",
       "SIGNUP                        0.181221\n",
       "SIGNUP_GOOGLE_AUTH            0.216800\n",
       "dtype: float64"
      ]
     },
     "execution_count": 37,
     "metadata": {},
     "output_type": "execute_result"
    }
   ],
   "source": [
    "# Investigate result; are any variables correlated with the outcome?\n",
    "X.corrwith(y)"
   ]
  },
  {
   "cell_type": "code",
   "execution_count": 45,
   "id": "a64ff378",
   "metadata": {},
   "outputs": [
    {
     "data": {
      "text/plain": [
       "0.17591666666666667"
      ]
     },
     "execution_count": 45,
     "metadata": {},
     "output_type": "execute_result"
    }
   ],
   "source": [
    "# The strongestest predictor was creation_source; \n",
    "# if they joined through an invitation to a personal project, they were slightly less likely to become an adopted user.\n",
    "\n",
    "# Only 18% of users have this attribute\n",
    "sum(X.PERSONAL_PROJECTS)/len(X)"
   ]
  }
 ],
 "metadata": {
  "kernelspec": {
   "display_name": "Python 3",
   "language": "python",
   "name": "python3"
  },
  "language_info": {
   "codemirror_mode": {
    "name": "ipython",
    "version": 3
   },
   "file_extension": ".py",
   "mimetype": "text/x-python",
   "name": "python",
   "nbconvert_exporter": "python",
   "pygments_lexer": "ipython3",
   "version": "3.7.10"
  }
 },
 "nbformat": 4,
 "nbformat_minor": 5
}
